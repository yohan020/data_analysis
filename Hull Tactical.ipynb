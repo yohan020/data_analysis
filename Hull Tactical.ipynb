{
 "cells": [
  {
   "cell_type": "code",
   "execution_count": 1,
   "id": "b6b98ad2",
   "metadata": {
    "_cell_guid": "b1076dfc-b9ad-4769-8c92-a6c4dae69d19",
    "_uuid": "8f2839f25d086af736a60e9eeb907d3b93b6e0e5",
    "execution": {
     "iopub.execute_input": "2025-10-27T14:46:25.376862Z",
     "iopub.status.busy": "2025-10-27T14:46:25.376581Z",
     "iopub.status.idle": "2025-10-27T14:46:26.935093Z",
     "shell.execute_reply": "2025-10-27T14:46:26.934489Z"
    },
    "papermill": {
     "duration": 1.564064,
     "end_time": "2025-10-27T14:46:26.936654",
     "exception": false,
     "start_time": "2025-10-27T14:46:25.372590",
     "status": "completed"
    },
    "tags": []
   },
   "outputs": [],
   "source": [
    "import pandas as pd\n",
    "import numpy as np\n",
    "import warnings\n",
    "\n",
    "warnings.filterwarnings('ignore')"
   ]
  },
  {
   "cell_type": "code",
   "execution_count": 2,
   "id": "ecba28f7",
   "metadata": {
    "execution": {
     "iopub.execute_input": "2025-10-27T14:46:26.942883Z",
     "iopub.status.busy": "2025-10-27T14:46:26.942141Z",
     "iopub.status.idle": "2025-10-27T14:46:27.276996Z",
     "shell.execute_reply": "2025-10-27T14:46:27.276072Z"
    },
    "papermill": {
     "duration": 0.339393,
     "end_time": "2025-10-27T14:46:27.278601",
     "exception": false,
     "start_time": "2025-10-27T14:46:26.939208",
     "status": "completed"
    },
    "tags": []
   },
   "outputs": [],
   "source": [
    "df_train = pd.read_csv('/kaggle/input/hull-tactical-market-prediction/train.csv')"
   ]
  },
  {
   "cell_type": "code",
   "execution_count": 3,
   "id": "365d9e21",
   "metadata": {
    "execution": {
     "iopub.execute_input": "2025-10-27T14:46:27.284725Z",
     "iopub.status.busy": "2025-10-27T14:46:27.283955Z",
     "iopub.status.idle": "2025-10-27T14:46:27.319317Z",
     "shell.execute_reply": "2025-10-27T14:46:27.318615Z"
    },
    "papermill": {
     "duration": 0.039972,
     "end_time": "2025-10-27T14:46:27.320958",
     "exception": false,
     "start_time": "2025-10-27T14:46:27.280986",
     "status": "completed"
    },
    "tags": []
   },
   "outputs": [
    {
     "name": "stdout",
     "output_type": "stream",
     "text": [
      "<class 'pandas.core.frame.DataFrame'>\n",
      "RangeIndex: 8990 entries, 0 to 8989\n",
      "Data columns (total 98 columns):\n",
      " #   Column                         Non-Null Count  Dtype  \n",
      "---  ------                         --------------  -----  \n",
      " 0   date_id                        8990 non-null   int64  \n",
      " 1   D1                             8990 non-null   int64  \n",
      " 2   D2                             8990 non-null   int64  \n",
      " 3   D3                             8990 non-null   int64  \n",
      " 4   D4                             8990 non-null   int64  \n",
      " 5   D5                             8990 non-null   int64  \n",
      " 6   D6                             8990 non-null   int64  \n",
      " 7   D7                             8990 non-null   int64  \n",
      " 8   D8                             8990 non-null   int64  \n",
      " 9   D9                             8990 non-null   int64  \n",
      " 10  E1                             7206 non-null   float64\n",
      " 11  E10                            7984 non-null   float64\n",
      " 12  E11                            7984 non-null   float64\n",
      " 13  E12                            7984 non-null   float64\n",
      " 14  E13                            7984 non-null   float64\n",
      " 15  E14                            7984 non-null   float64\n",
      " 16  E15                            7984 non-null   float64\n",
      " 17  E16                            7984 non-null   float64\n",
      " 18  E17                            7984 non-null   float64\n",
      " 19  E18                            7984 non-null   float64\n",
      " 20  E19                            7984 non-null   float64\n",
      " 21  E2                             7984 non-null   float64\n",
      " 22  E20                            7374 non-null   float64\n",
      " 23  E3                             7984 non-null   float64\n",
      " 24  E4                             7984 non-null   float64\n",
      " 25  E5                             7984 non-null   float64\n",
      " 26  E6                             7984 non-null   float64\n",
      " 27  E7                             2021 non-null   float64\n",
      " 28  E8                             7984 non-null   float64\n",
      " 29  E9                             7984 non-null   float64\n",
      " 30  I1                             7984 non-null   float64\n",
      " 31  I2                             7984 non-null   float64\n",
      " 32  I3                             7984 non-null   float64\n",
      " 33  I4                             7984 non-null   float64\n",
      " 34  I5                             7984 non-null   float64\n",
      " 35  I6                             7984 non-null   float64\n",
      " 36  I7                             7984 non-null   float64\n",
      " 37  I8                             7984 non-null   float64\n",
      " 38  I9                             7984 non-null   float64\n",
      " 39  M1                             3443 non-null   float64\n",
      " 40  M10                            7984 non-null   float64\n",
      " 41  M11                            7984 non-null   float64\n",
      " 42  M12                            7984 non-null   float64\n",
      " 43  M13                            3450 non-null   float64\n",
      " 44  M14                            3450 non-null   float64\n",
      " 45  M15                            7984 non-null   float64\n",
      " 46  M16                            7984 non-null   float64\n",
      " 47  M17                            7984 non-null   float64\n",
      " 48  M18                            7984 non-null   float64\n",
      " 49  M2                             5773 non-null   float64\n",
      " 50  M3                             6972 non-null   float64\n",
      " 51  M4                             7984 non-null   float64\n",
      " 52  M5                             5707 non-null   float64\n",
      " 53  M6                             3947 non-null   float64\n",
      " 54  M7                             7984 non-null   float64\n",
      " 55  M8                             7984 non-null   float64\n",
      " 56  M9                             7984 non-null   float64\n",
      " 57  P1                             7984 non-null   float64\n",
      " 58  P10                            7984 non-null   float64\n",
      " 59  P11                            7984 non-null   float64\n",
      " 60  P12                            7984 non-null   float64\n",
      " 61  P13                            7984 non-null   float64\n",
      " 62  P2                             7984 non-null   float64\n",
      " 63  P3                             7984 non-null   float64\n",
      " 64  P4                             7984 non-null   float64\n",
      " 65  P5                             7416 non-null   float64\n",
      " 66  P6                             7352 non-null   float64\n",
      " 67  P7                             7374 non-null   float64\n",
      " 68  P8                             7984 non-null   float64\n",
      " 69  P9                             7984 non-null   float64\n",
      " 70  S1                             7984 non-null   float64\n",
      " 71  S10                            7984 non-null   float64\n",
      " 72  S11                            7984 non-null   float64\n",
      " 73  S12                            5453 non-null   float64\n",
      " 74  S2                             7984 non-null   float64\n",
      " 75  S3                             3257 non-null   float64\n",
      " 76  S4                             7984 non-null   float64\n",
      " 77  S5                             7479 non-null   float64\n",
      " 78  S6                             7984 non-null   float64\n",
      " 79  S7                             7984 non-null   float64\n",
      " 80  S8                             5981 non-null   float64\n",
      " 81  S9                             7984 non-null   float64\n",
      " 82  V1                             7984 non-null   float64\n",
      " 83  V10                            2941 non-null   float64\n",
      " 84  V11                            7984 non-null   float64\n",
      " 85  V12                            7984 non-null   float64\n",
      " 86  V13                            7479 non-null   float64\n",
      " 87  V2                             7984 non-null   float64\n",
      " 88  V3                             7984 non-null   float64\n",
      " 89  V4                             7984 non-null   float64\n",
      " 90  V5                             7478 non-null   float64\n",
      " 91  V6                             7984 non-null   float64\n",
      " 92  V7                             7479 non-null   float64\n",
      " 93  V8                             7984 non-null   float64\n",
      " 94  V9                             4451 non-null   float64\n",
      " 95  forward_returns                8990 non-null   float64\n",
      " 96  risk_free_rate                 8990 non-null   float64\n",
      " 97  market_forward_excess_returns  8990 non-null   float64\n",
      "dtypes: float64(88), int64(10)\n",
      "memory usage: 6.7 MB\n"
     ]
    }
   ],
   "source": [
    "df_train.info()"
   ]
  },
  {
   "cell_type": "code",
   "execution_count": 4,
   "id": "7079e5e2",
   "metadata": {
    "execution": {
     "iopub.execute_input": "2025-10-27T14:46:27.327118Z",
     "iopub.status.busy": "2025-10-27T14:46:27.326641Z",
     "iopub.status.idle": "2025-10-27T14:46:27.351298Z",
     "shell.execute_reply": "2025-10-27T14:46:27.350607Z"
    },
    "papermill": {
     "duration": 0.028951,
     "end_time": "2025-10-27T14:46:27.352675",
     "exception": false,
     "start_time": "2025-10-27T14:46:27.323724",
     "status": "completed"
    },
    "tags": []
   },
   "outputs": [
    {
     "data": {
      "text/html": [
       "<div>\n",
       "<style scoped>\n",
       "    .dataframe tbody tr th:only-of-type {\n",
       "        vertical-align: middle;\n",
       "    }\n",
       "\n",
       "    .dataframe tbody tr th {\n",
       "        vertical-align: top;\n",
       "    }\n",
       "\n",
       "    .dataframe thead th {\n",
       "        text-align: right;\n",
       "    }\n",
       "</style>\n",
       "<table border=\"1\" class=\"dataframe\">\n",
       "  <thead>\n",
       "    <tr style=\"text-align: right;\">\n",
       "      <th></th>\n",
       "      <th>date_id</th>\n",
       "      <th>D1</th>\n",
       "      <th>D2</th>\n",
       "      <th>D3</th>\n",
       "      <th>D4</th>\n",
       "      <th>D5</th>\n",
       "      <th>D6</th>\n",
       "      <th>D7</th>\n",
       "      <th>D8</th>\n",
       "      <th>D9</th>\n",
       "      <th>...</th>\n",
       "      <th>V3</th>\n",
       "      <th>V4</th>\n",
       "      <th>V5</th>\n",
       "      <th>V6</th>\n",
       "      <th>V7</th>\n",
       "      <th>V8</th>\n",
       "      <th>V9</th>\n",
       "      <th>forward_returns</th>\n",
       "      <th>risk_free_rate</th>\n",
       "      <th>market_forward_excess_returns</th>\n",
       "    </tr>\n",
       "  </thead>\n",
       "  <tbody>\n",
       "    <tr>\n",
       "      <th>0</th>\n",
       "      <td>0</td>\n",
       "      <td>0</td>\n",
       "      <td>0</td>\n",
       "      <td>0</td>\n",
       "      <td>1</td>\n",
       "      <td>1</td>\n",
       "      <td>0</td>\n",
       "      <td>0</td>\n",
       "      <td>0</td>\n",
       "      <td>1</td>\n",
       "      <td>...</td>\n",
       "      <td>NaN</td>\n",
       "      <td>NaN</td>\n",
       "      <td>NaN</td>\n",
       "      <td>NaN</td>\n",
       "      <td>NaN</td>\n",
       "      <td>NaN</td>\n",
       "      <td>NaN</td>\n",
       "      <td>-0.002421</td>\n",
       "      <td>0.000301</td>\n",
       "      <td>-0.003038</td>\n",
       "    </tr>\n",
       "    <tr>\n",
       "      <th>1</th>\n",
       "      <td>1</td>\n",
       "      <td>0</td>\n",
       "      <td>0</td>\n",
       "      <td>0</td>\n",
       "      <td>1</td>\n",
       "      <td>1</td>\n",
       "      <td>0</td>\n",
       "      <td>0</td>\n",
       "      <td>0</td>\n",
       "      <td>1</td>\n",
       "      <td>...</td>\n",
       "      <td>NaN</td>\n",
       "      <td>NaN</td>\n",
       "      <td>NaN</td>\n",
       "      <td>NaN</td>\n",
       "      <td>NaN</td>\n",
       "      <td>NaN</td>\n",
       "      <td>NaN</td>\n",
       "      <td>-0.008495</td>\n",
       "      <td>0.000303</td>\n",
       "      <td>-0.009114</td>\n",
       "    </tr>\n",
       "    <tr>\n",
       "      <th>2</th>\n",
       "      <td>2</td>\n",
       "      <td>0</td>\n",
       "      <td>0</td>\n",
       "      <td>0</td>\n",
       "      <td>1</td>\n",
       "      <td>0</td>\n",
       "      <td>0</td>\n",
       "      <td>0</td>\n",
       "      <td>0</td>\n",
       "      <td>1</td>\n",
       "      <td>...</td>\n",
       "      <td>NaN</td>\n",
       "      <td>NaN</td>\n",
       "      <td>NaN</td>\n",
       "      <td>NaN</td>\n",
       "      <td>NaN</td>\n",
       "      <td>NaN</td>\n",
       "      <td>NaN</td>\n",
       "      <td>-0.009624</td>\n",
       "      <td>0.000301</td>\n",
       "      <td>-0.010243</td>\n",
       "    </tr>\n",
       "    <tr>\n",
       "      <th>3</th>\n",
       "      <td>3</td>\n",
       "      <td>0</td>\n",
       "      <td>0</td>\n",
       "      <td>0</td>\n",
       "      <td>1</td>\n",
       "      <td>0</td>\n",
       "      <td>0</td>\n",
       "      <td>0</td>\n",
       "      <td>0</td>\n",
       "      <td>0</td>\n",
       "      <td>...</td>\n",
       "      <td>NaN</td>\n",
       "      <td>NaN</td>\n",
       "      <td>NaN</td>\n",
       "      <td>NaN</td>\n",
       "      <td>NaN</td>\n",
       "      <td>NaN</td>\n",
       "      <td>NaN</td>\n",
       "      <td>0.004662</td>\n",
       "      <td>0.000299</td>\n",
       "      <td>0.004046</td>\n",
       "    </tr>\n",
       "    <tr>\n",
       "      <th>4</th>\n",
       "      <td>4</td>\n",
       "      <td>0</td>\n",
       "      <td>0</td>\n",
       "      <td>0</td>\n",
       "      <td>1</td>\n",
       "      <td>0</td>\n",
       "      <td>0</td>\n",
       "      <td>0</td>\n",
       "      <td>0</td>\n",
       "      <td>0</td>\n",
       "      <td>...</td>\n",
       "      <td>NaN</td>\n",
       "      <td>NaN</td>\n",
       "      <td>NaN</td>\n",
       "      <td>NaN</td>\n",
       "      <td>NaN</td>\n",
       "      <td>NaN</td>\n",
       "      <td>NaN</td>\n",
       "      <td>-0.011686</td>\n",
       "      <td>0.000299</td>\n",
       "      <td>-0.012301</td>\n",
       "    </tr>\n",
       "  </tbody>\n",
       "</table>\n",
       "<p>5 rows × 98 columns</p>\n",
       "</div>"
      ],
      "text/plain": [
       "   date_id  D1  D2  D3  D4  D5  D6  D7  D8  D9  ...  V3  V4  V5  V6  V7  V8  \\\n",
       "0        0   0   0   0   1   1   0   0   0   1  ... NaN NaN NaN NaN NaN NaN   \n",
       "1        1   0   0   0   1   1   0   0   0   1  ... NaN NaN NaN NaN NaN NaN   \n",
       "2        2   0   0   0   1   0   0   0   0   1  ... NaN NaN NaN NaN NaN NaN   \n",
       "3        3   0   0   0   1   0   0   0   0   0  ... NaN NaN NaN NaN NaN NaN   \n",
       "4        4   0   0   0   1   0   0   0   0   0  ... NaN NaN NaN NaN NaN NaN   \n",
       "\n",
       "   V9  forward_returns  risk_free_rate  market_forward_excess_returns  \n",
       "0 NaN        -0.002421        0.000301                      -0.003038  \n",
       "1 NaN        -0.008495        0.000303                      -0.009114  \n",
       "2 NaN        -0.009624        0.000301                      -0.010243  \n",
       "3 NaN         0.004662        0.000299                       0.004046  \n",
       "4 NaN        -0.011686        0.000299                      -0.012301  \n",
       "\n",
       "[5 rows x 98 columns]"
      ]
     },
     "execution_count": 4,
     "metadata": {},
     "output_type": "execute_result"
    }
   ],
   "source": [
    "df_train.head()"
   ]
  },
  {
   "cell_type": "markdown",
   "id": "e56c2dcb",
   "metadata": {
    "papermill": {
     "duration": 0.002268,
     "end_time": "2025-10-27T14:46:27.357634",
     "exception": false,
     "start_time": "2025-10-27T14:46:27.355366",
     "status": "completed"
    },
    "tags": []
   },
   "source": [
    "# Simple Modeling"
   ]
  },
  {
   "cell_type": "code",
   "execution_count": 5,
   "id": "a9d767b1",
   "metadata": {
    "execution": {
     "iopub.execute_input": "2025-10-27T14:46:27.363933Z",
     "iopub.status.busy": "2025-10-27T14:46:27.363328Z",
     "iopub.status.idle": "2025-10-27T14:46:27.373594Z",
     "shell.execute_reply": "2025-10-27T14:46:27.372905Z"
    },
    "papermill": {
     "duration": 0.014735,
     "end_time": "2025-10-27T14:46:27.374862",
     "exception": false,
     "start_time": "2025-10-27T14:46:27.360127",
     "status": "completed"
    },
    "tags": []
   },
   "outputs": [],
   "source": [
    "target = 'forward_returns'\n",
    "drop_cols=['data_id',target,'risk_free_late','market_forward_excess_returns']\n",
    "\n",
    "X = df_train.drop(drop_cols, errors='ignore')\n",
    "y = df_train[target]"
   ]
  },
  {
   "cell_type": "code",
   "execution_count": 6,
   "id": "bdbfaf28",
   "metadata": {
    "execution": {
     "iopub.execute_input": "2025-10-27T14:46:27.381038Z",
     "iopub.status.busy": "2025-10-27T14:46:27.380796Z",
     "iopub.status.idle": "2025-10-27T14:46:27.385379Z",
     "shell.execute_reply": "2025-10-27T14:46:27.384754Z"
    },
    "papermill": {
     "duration": 0.008858,
     "end_time": "2025-10-27T14:46:27.386583",
     "exception": false,
     "start_time": "2025-10-27T14:46:27.377725",
     "status": "completed"
    },
    "tags": []
   },
   "outputs": [],
   "source": [
    "split_point = int(len(X) * 0.8)\n",
    "X_train, X_test = X.iloc[:split_point], X.iloc[split_point:]\n",
    "y_train, y_test = y.iloc[:split_point], y.iloc[split_point:]"
   ]
  },
  {
   "cell_type": "code",
   "execution_count": 7,
   "id": "c6957f37",
   "metadata": {
    "execution": {
     "iopub.execute_input": "2025-10-27T14:46:27.394317Z",
     "iopub.status.busy": "2025-10-27T14:46:27.393873Z",
     "iopub.status.idle": "2025-10-27T14:46:36.875320Z",
     "shell.execute_reply": "2025-10-27T14:46:36.874327Z"
    },
    "papermill": {
     "duration": 9.487627,
     "end_time": "2025-10-27T14:46:36.876733",
     "exception": false,
     "start_time": "2025-10-27T14:46:27.389106",
     "status": "completed"
    },
    "tags": []
   },
   "outputs": [
    {
     "name": "stdout",
     "output_type": "stream",
     "text": [
      "[LightGBM] [Warning] Unknown parameter: leanring_rate\n",
      "[LightGBM] [Warning] Unknown parameter: leanring_rate\n",
      "[LightGBM] [Info] Auto-choosing col-wise multi-threading, the overhead of testing was 0.004657 seconds.\n",
      "You can set `force_col_wise=true` to remove the overhead.\n",
      "[LightGBM] [Info] Total Bins 22404\n",
      "[LightGBM] [Info] Number of data points in the train set: 7192, number of used features: 98\n",
      "[LightGBM] [Info] Start training from score 0.000434\n",
      "[LightGBM] [Warning] Unknown parameter: leanring_rate\n",
      "0.8187620457103642\n"
     ]
    }
   ],
   "source": [
    "from lightgbm import LGBMRegressor\n",
    "from sklearn.metrics import mean_squared_error\n",
    "\n",
    "model = LGBMRegressor(\n",
    "    n_estimators=500,\n",
    "    leanring_rate=0.05,\n",
    "    max_depth=-1,\n",
    "    subsample=0.8,\n",
    "    colsample_bytree=0.8,\n",
    "    random_state=42\n",
    ")\n",
    "\n",
    "model.fit(X_train, y_train)\n",
    "preds=model.predict(X_test)\n",
    "\n",
    "rmse = mean_squared_error(y_test, preds, squared=False)\n",
    "print(rmse/df_train[target].mean())"
   ]
  },
  {
   "cell_type": "code",
   "execution_count": 8,
   "id": "bf9064cd",
   "metadata": {
    "execution": {
     "iopub.execute_input": "2025-10-27T14:46:36.884186Z",
     "iopub.status.busy": "2025-10-27T14:46:36.883158Z",
     "iopub.status.idle": "2025-10-27T14:46:36.889578Z",
     "shell.execute_reply": "2025-10-27T14:46:36.888814Z"
    },
    "papermill": {
     "duration": 0.011099,
     "end_time": "2025-10-27T14:46:36.890807",
     "exception": false,
     "start_time": "2025-10-27T14:46:36.879708",
     "status": "completed"
    },
    "tags": []
   },
   "outputs": [
    {
     "data": {
      "text/plain": [
       "0.0004692029066059327"
      ]
     },
     "execution_count": 8,
     "metadata": {},
     "output_type": "execute_result"
    }
   ],
   "source": [
    "df_train[target].mean()"
   ]
  },
  {
   "cell_type": "code",
   "execution_count": null,
   "id": "373d3fa6",
   "metadata": {
    "papermill": {
     "duration": 0.002418,
     "end_time": "2025-10-27T14:46:36.896110",
     "exception": false,
     "start_time": "2025-10-27T14:46:36.893692",
     "status": "completed"
    },
    "tags": []
   },
   "outputs": [],
   "source": []
  },
  {
   "cell_type": "code",
   "execution_count": null,
   "id": "221e7877",
   "metadata": {
    "papermill": {
     "duration": 0.00234,
     "end_time": "2025-10-27T14:46:36.900861",
     "exception": false,
     "start_time": "2025-10-27T14:46:36.898521",
     "status": "completed"
    },
    "tags": []
   },
   "outputs": [],
   "source": []
  }
 ],
 "metadata": {
  "kaggle": {
   "accelerator": "none",
   "dataSources": [
    {
     "databundleVersionId": 13750964,
     "sourceId": 111543,
     "sourceType": "competition"
    }
   ],
   "dockerImageVersionId": 31153,
   "isGpuEnabled": false,
   "isInternetEnabled": true,
   "language": "python",
   "sourceType": "notebook"
  },
  "kernelspec": {
   "display_name": "Python 3",
   "language": "python",
   "name": "python3"
  },
  "language_info": {
   "codemirror_mode": {
    "name": "ipython",
    "version": 3
   },
   "file_extension": ".py",
   "mimetype": "text/x-python",
   "name": "python",
   "nbconvert_exporter": "python",
   "pygments_lexer": "ipython3",
   "version": "3.11.13"
  },
  "papermill": {
   "default_parameters": {},
   "duration": 16.360169,
   "end_time": "2025-10-27T14:46:37.822984",
   "environment_variables": {},
   "exception": null,
   "input_path": "__notebook__.ipynb",
   "output_path": "__notebook__.ipynb",
   "parameters": {},
   "start_time": "2025-10-27T14:46:21.462815",
   "version": "2.6.0"
  }
 },
 "nbformat": 4,
 "nbformat_minor": 5
}
